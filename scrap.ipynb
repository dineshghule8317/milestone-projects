{
 "cells": [
  {
   "cell_type": "code",
   "execution_count": 1,
   "id": "87697c6f-1177-4f03-b755-84bb33b1b17e",
   "metadata": {},
   "outputs": [
    {
     "name": "stdout",
     "output_type": "stream",
     "text": [
      "TEAMSMWLTN/RPTNRRFORAGAINST\n",
      "1Delhi Capitals1410400200.4812180/267.02136/278.0\n",
      "2Chennai Super Kings149500180.4552368/272.02218/268.5\n",
      "3Royal Challengers Bangalore14950018-0.1402165/273.42159/268.1\n",
      "4Kolkata Knight Riders147700140.5872119/259.52080/274.5\n",
      "5Mumbai Indians147700140.1162117/265.52128/271.1\n",
      "6Punjab Kings14680012-0.0012150/270.12117/266.0\n",
      "7Rajasthan Royals14590010-0.9932196/276.02318/259.0\n",
      "8Sunrisers Hyderabad14311006-0.5452077/277.12216/275.4\n"
     ]
    }
   ],
   "source": [
    "import requests\n",
    "import bs4\n",
    "\n",
    "req=requests.get('http://www.espncricinfo.com/series/ipl-2021-1249214/points-table-standings')\n",
    "\n",
    "soup=bs4.BeautifulSoup(req.text,'lxml')\n",
    "table=soup.select('tr')\n",
    "\n",
    "for item in table:\n",
    "    print(item.text)"
   ]
  },
  {
   "cell_type": "code",
   "execution_count": null,
   "id": "a40232ec-3216-4ec8-bca1-6063ddb97f81",
   "metadata": {},
   "outputs": [],
   "source": []
  }
 ],
 "metadata": {
  "kernelspec": {
   "display_name": "Python 3 (ipykernel)",
   "language": "python",
   "name": "python3"
  },
  "language_info": {
   "codemirror_mode": {
    "name": "ipython",
    "version": 3
   },
   "file_extension": ".py",
   "mimetype": "text/x-python",
   "name": "python",
   "nbconvert_exporter": "python",
   "pygments_lexer": "ipython3",
   "version": "3.9.7"
  }
 },
 "nbformat": 4,
 "nbformat_minor": 5
}
