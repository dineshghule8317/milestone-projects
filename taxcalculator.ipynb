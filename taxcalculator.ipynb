{
 "cells": [
  {
   "cell_type": "code",
   "execution_count": 1,
   "id": "0857ce9c-fd5b-4a47-a18d-f4a4c3fd0bfc",
   "metadata": {},
   "outputs": [
    {
     "name": "stdout",
     "output_type": "stream",
     "text": [
      "mar-2021 To mar-2022 income\n"
     ]
    },
    {
     "name": "stdin",
     "output_type": "stream",
     "text": [
      "enter your income d\n"
     ]
    },
    {
     "ename": "ValueError",
     "evalue": "invalid literal for int() with base 10: 'd'",
     "output_type": "error",
     "traceback": [
      "\u001b[1;31m---------------------------------------------------------------------------\u001b[0m",
      "\u001b[1;31mValueError\u001b[0m                                Traceback (most recent call last)",
      "\u001b[1;32m~\\AppData\\Local\\Temp/ipykernel_6220/4042515605.py\u001b[0m in \u001b[0;36m<module>\u001b[1;34m\u001b[0m\n\u001b[0;32m      2\u001b[0m \u001b[1;33m\u001b[0m\u001b[0m\n\u001b[0;32m      3\u001b[0m \u001b[0mprint\u001b[0m\u001b[1;33m(\u001b[0m\u001b[1;34m\"mar-2021 To mar-2022 income\"\u001b[0m\u001b[1;33m)\u001b[0m\u001b[1;33m\u001b[0m\u001b[1;33m\u001b[0m\u001b[0m\n\u001b[1;32m----> 4\u001b[1;33m \u001b[0mn\u001b[0m\u001b[1;33m=\u001b[0m\u001b[0mint\u001b[0m\u001b[1;33m(\u001b[0m\u001b[0minput\u001b[0m\u001b[1;33m(\u001b[0m\u001b[1;34m\"enter your income\"\u001b[0m\u001b[1;33m)\u001b[0m\u001b[1;33m)\u001b[0m\u001b[1;33m\u001b[0m\u001b[1;33m\u001b[0m\u001b[0m\n\u001b[0m\u001b[0;32m      5\u001b[0m \u001b[0mtax\u001b[0m\u001b[1;33m=\u001b[0m\u001b[1;36m0\u001b[0m\u001b[1;33m\u001b[0m\u001b[1;33m\u001b[0m\u001b[0m\n\u001b[0;32m      6\u001b[0m \u001b[1;33m\u001b[0m\u001b[0m\n",
      "\u001b[1;31mValueError\u001b[0m: invalid literal for int() with base 10: 'd'"
     ]
    }
   ],
   "source": [
    "# tax calculator\n",
    "\n",
    "print(\"mar-2021 To mar-2022 income\")\n",
    "n=int(input(\"enter your income\"))\n",
    "tax=0\n",
    "\n",
    "if n <= 250000:  #2 Lakh 50 thousand\n",
    "    tax = 0\n",
    "elif n <= 500000: #5 Lakh\n",
    "    tax = (n - 250000) * 0.05\n",
    "elif n <= 750000: #7 lakh 50 thousand\n",
    "    tax = (n - 500000) * 0.10 + 12500 \n",
    "elif n <= 1000000: #10 Lakh\n",
    "    tax = (n - 750000) * 0.15 + 37500 \n",
    "elif n <= 1250000: #12 lakh 50 thousand\n",
    "    tax = (n - 1000000) * 0.20 + 75000 \n",
    "elif n <= 1500000: #15 lakh\n",
    "    tax = (n - 1250000) * 0.25 + 125000 \n",
    "else:\n",
    "    tax = (n - 1500000) * 0.30 + 187500\n",
    "\n",
    "print(\"you pay tax is\", tax)"
   ]
  },
  {
   "cell_type": "code",
   "execution_count": null,
   "id": "4f179727-f6c7-4afa-af39-25b38b70c37d",
   "metadata": {},
   "outputs": [],
   "source": []
  }
 ],
 "metadata": {
  "kernelspec": {
   "display_name": "Python 3 (ipykernel)",
   "language": "python",
   "name": "python3"
  },
  "language_info": {
   "codemirror_mode": {
    "name": "ipython",
    "version": 3
   },
   "file_extension": ".py",
   "mimetype": "text/x-python",
   "name": "python",
   "nbconvert_exporter": "python",
   "pygments_lexer": "ipython3",
   "version": "3.9.7"
  }
 },
 "nbformat": 4,
 "nbformat_minor": 5
}
